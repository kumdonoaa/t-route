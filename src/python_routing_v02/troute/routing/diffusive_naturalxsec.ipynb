{
 "cells": [
  {
   "cell_type": "code",
   "execution_count": 16,
   "metadata": {},
   "outputs": [],
   "source": [
    "import netCDF4 as nc\n",
    "import numpy as np\n",
    "import pandas as pd\n",
    "import matplotlib.pyplot as plt\n",
    "\n",
    "#RouteLinkNC = nc.Dataset('/home/user/Downloads/eHydro/RouteLink_CONUS.nc')\n",
    "RouteLinkNC = nc.Dataset('/home/dongha.kim/github/t-route/src/python_routing_v02/troute/routing/RouteLink_CONUS.nc')\n",
    "#inland_bathyNC = nc.Dataset('/home/user/Downloads/eHydro/eHydro_ned_cross_sections_2021_11_22.nc')\n",
    "#inland_bathyNC = nc.Dataset('/home/dongha.kim/github/t-route/src/python_routing_v02/troute/routing/eHydro_ned_cross_sections_2021_11_22.nc')\n",
    "inland_bathyNC = nc.Dataset('/home/dongha.kim/github/t-route/src/python_routing_v02/troute/routing/eHydro_ned_cross_sections_2021_12_29.nc')"
   ]
  },
  {
   "cell_type": "code",
   "execution_count": 17,
   "metadata": {},
   "outputs": [
    {
     "name": "stderr",
     "output_type": "stream",
     "text": [
      "/home/dongha.kim/anaconda3/lib/python3.7/site-packages/ipykernel_launcher.py:1: DeprecationWarning: tostring() is deprecated. Use tobytes() instead.\n",
      "  \"\"\"Entry point for launching an IPython kernel.\n"
     ]
    },
    {
     "name": "stdout",
     "output_type": "stream",
     "text": [
      "<class 'netCDF4._netCDF4.Dataset'>\n",
      "root group (NETCDF3_CLASSIC data model, file format NETCDF3):\n",
      "    title: Natural cross section data for inland routing task\n",
      "    date_scraped: eHydro data scraped on 2021-11-01\n",
      "    date_generated: database generated on  2021_12_29\n",
      "    code_repo: https://github.com/JamesColl-NOAA/eHydRo\n",
      "    contact: james.coll@noaa.gov\n",
      "    projection: epsg:6349\n",
      "    dimensions(sizes): xid(23419)\n",
      "    variables(dimensions): int32 xid(xid), float64 xid_length(xid), int32 comid(xid), float64 comid_rel_dist_ds(xid), float64 xid_d(xid), float64 x(xid), float64 y(xid), float64 z(xid), float64 n(xid), int32 source(xid)\n",
      "    groups: \n"
     ]
    },
    {
     "name": "stderr",
     "output_type": "stream",
     "text": [
      "/home/dongha.kim/anaconda3/lib/python3.7/site-packages/ipykernel_launcher.py:2: DeprecationWarning: tostring() is deprecated. Use tobytes() instead.\n",
      "  \n"
     ]
    },
    {
     "name": "stdout",
     "output_type": "stream",
     "text": [
      "<class 'netCDF4._netCDF4.Dataset'>\n",
      "root group (NETCDF4_CLASSIC data model, file format HDF5):\n",
      "    Convention: CF-1.6\n",
      "    featureType: timeSeries\n",
      "    processing_notes: This file was produced Fri Apr 12 07:16:15 2019 by Kevin Sampson (NCAR) and has the following attributes: \n",
      "   This file uses the NHDPlus v21 \"flattened\" geodatabase: NHDPlusV21_National_Flattened.gdb.\n",
      "   This file excludes reaches in Puerto Rico and Hawaii.\n",
      "   Routing using Arc-Hydro derived segments for Regions 01a, 02b, 09a, 10i, 10h, 13a, 13b, 13d, 15a, 15b, 17b, 18a.\n",
      "   Topology fixes using: Topology_Fixer.csv.\n",
      "   NHDFlowlines removed using: Remove_COMIDs_NHDFLowline_Network.csv.\n",
      "   Gage preference list: numberOf100QualityObs.2017-03-15.csv.\n",
      "   Gage subset list: numberOf100QualityObs.2017-03-15.csv.\n",
      "   Gage additions made using: Add_Gage_Association.csv.\n",
      "   Gage-to-flowline association changes made using: Bad_Gage_Associations.csv.\n",
      "   Tidal-influenced gages removed using: TidalGageList_20170316.csv.\n",
      "   Waterbody associations using spatial join with Lake feature class Input_Waterbodies_NWM_v2_1.shp.\n",
      "    region: CONUS\n",
      "    history: Thu Sep 19 11:44:20 2019: ncatted -O -a version,global,c,c,NWM v2.1 alpha RouteLink_NWMv2.1.nc\n",
      "Thu Sep 19 11:43:55 2019: ncatted -O -a region,global,c,c,CONUS RouteLink_NWMv2.1.nc\n",
      "Created Fri Apr 12 10:38:40 2019\n",
      "    NCO: netCDF Operators version 4.7.9 (Homepage = http://nco.sf.net, Code = http://github.com/nco/nco)\n",
      "    version: NWM v2.1\n",
      "    dimensions(sizes): feature_id(2776738), IDLength(15)\n",
      "    variables(dimensions): int32 link(feature_id), int32 from(feature_id), int32 to(feature_id), float32 lon(feature_id), float32 lat(feature_id), float32 alt(feature_id), int32 order(feature_id), float32 Qi(feature_id), float32 MusK(feature_id), float32 MusX(feature_id), float32 Length(feature_id), float32 n(feature_id), float32 So(feature_id), float32 ChSlp(feature_id), float32 BtmWdth(feature_id), int32 NHDWaterbodyComID(feature_id), float32 time(), |S1 gages(feature_id,IDLength), int16 Kchan(feature_id), int32 ascendingIndex(feature_id), float32 nCC(feature_id), float32 TopWdthCC(feature_id), float32 TopWdth(feature_id)\n",
      "    groups: \n"
     ]
    }
   ],
   "source": [
    "print(inland_bathyNC)\n",
    "print(RouteLinkNC)\n"
   ]
  },
  {
   "cell_type": "code",
   "execution_count": 18,
   "metadata": {},
   "outputs": [
    {
     "data": {
      "text/plain": [
       "'1.21.2'"
      ]
     },
     "execution_count": 18,
     "metadata": {},
     "output_type": "execute_result"
    }
   ],
   "source": [
    "import numpy\n",
    "numpy.version.version\n"
   ]
  },
  {
   "cell_type": "code",
   "execution_count": 19,
   "metadata": {},
   "outputs": [
    {
     "name": "stderr",
     "output_type": "stream",
     "text": [
      "/home/dongha.kim/anaconda3/lib/python3.7/site-packages/ipykernel_launcher.py:2: DeprecationWarning: `np.bool` is a deprecated alias for the builtin `bool`. To silence this warning, use `bool` by itself. Doing this will not modify any behavior and is safe. If you specifically wanted the numpy scalar type, use `np.bool_` here.\n",
      "Deprecated in NumPy 1.20; for more details and guidance: https://numpy.org/devdocs/release/1.20.0-notes.html#deprecations\n",
      "  \n"
     ]
    },
    {
     "name": "stdout",
     "output_type": "stream",
     "text": [
      "[ 19667313  19667341  19667423  19667933  19667939  19667945  19667951\n",
      "  19667997  19668003  19668005  19668007  19668119  19668141  19670801\n",
      "  19670835  19670841  19670845  19675967  19676071  19676595  19676603\n",
      "  19678009  19678033  19678035  19678055  19678059  19678063  19678065\n",
      "  19678111  19678115  19678137  19678151  19678163  19678169  19678175\n",
      "  19678181  19678191  19678201  19678215  19678221  19678227  19678239\n",
      "  19678245  19678257  19678265  19678275  19678281  19678303  19678307\n",
      "  19678311  19678317  19678319  19678341  19678343  19678351  19678363\n",
      "  19678581  19678613  19685775  19692849  19692891  19692997  19693033\n",
      "  19693051  19693063  19693199  19693227  19693645  19694389  19695031\n",
      "  19695469  19695479  19695481  19695483  19695503  19695505  19695511\n",
      "  19695565  19695887  19695949  19696125  19696479  19696497  19697233\n",
      "  19697475  19697707  19697763  19697867  19697869  19697943  19697961\n",
      "  19697971  19697973  19698109  19698229  19698273  19698275  19698361\n",
      "  19698421  19698461  19698483  19699251  22134501  22134503  25308886\n",
      "  25308906  25308910  25308916  25308926  25308934  25308936  25308938\n",
      "  25308968  25308972  25308984  25308992  25308994  25308996  25309010\n",
      "  25309052  25309054  25309064  25309066  25309070  25309126  25309128\n",
      "  25309136  25309198  25309202  25309218  25309220  25309232  25309236\n",
      "  25309238  25309288  25309298  25309300  25309346  25310613 936020017]\n"
     ]
    }
   ],
   "source": [
    "# To get the list of COMID's that exist within the dataset\n",
    "print(np.unique(inland_bathyNC['comid'][:]))\n"
   ]
  },
  {
   "cell_type": "code",
   "execution_count": 20,
   "metadata": {},
   "outputs": [
    {
     "name": "stdout",
     "output_type": "stream",
     "text": [
      "[19667341 19667423 19667933]\n"
     ]
    },
    {
     "name": "stderr",
     "output_type": "stream",
     "text": [
      "/home/dongha.kim/anaconda3/lib/python3.7/site-packages/ipykernel_launcher.py:5: DeprecationWarning: `np.bool` is a deprecated alias for the builtin `bool`. To silence this warning, use `bool` by itself. Doing this will not modify any behavior and is safe. If you specifically wanted the numpy scalar type, use `np.bool_` here.\n",
      "Deprecated in NumPy 1.20; for more details and guidance: https://numpy.org/devdocs/release/1.20.0-notes.html#deprecations\n",
      "  \"\"\"\n"
     ]
    }
   ],
   "source": [
    "## How many cross sections are associated with a given comid? \n",
    "## (should be 1 based on the current workflow but as am example)\n",
    "\n",
    "#given_comid = np.unique(inland_bathyNC['comid'][:])[1:4]\n",
    "given_comid = np.unique(inland_bathyNC['comid'][:])[1:4]\n",
    "print(given_comid)"
   ]
  },
  {
   "cell_type": "code",
   "execution_count": 7,
   "metadata": {},
   "outputs": [],
   "source": [
    "#inland_bathyNC['xid'][14191085][:][:]\n",
    "#inland_bathyNC['comid'][:]\n",
    "\n",
    "#bathy['xid'][bathy['comid']==given_comid]\n"
   ]
  },
  {
   "cell_type": "code",
   "execution_count": 21,
   "metadata": {
    "scrolled": false
   },
   "outputs": [
    {
     "name": "stderr",
     "output_type": "stream",
     "text": [
      "/home/dongha.kim/anaconda3/lib/python3.7/site-packages/ipykernel_launcher.py:4: DeprecationWarning: `np.bool` is a deprecated alias for the builtin `bool`. To silence this warning, use `bool` by itself. Doing this will not modify any behavior and is safe. If you specifically wanted the numpy scalar type, use `np.bool_` here.\n",
      "Deprecated in NumPy 1.20; for more details and guidance: https://numpy.org/devdocs/release/1.20.0-notes.html#deprecations\n",
      "  after removing the cwd from sys.path.\n",
      "/home/dongha.kim/anaconda3/lib/python3.7/site-packages/ipykernel_launcher.py:5: DeprecationWarning: `np.bool` is a deprecated alias for the builtin `bool`. To silence this warning, use `bool` by itself. Doing this will not modify any behavior and is safe. If you specifically wanted the numpy scalar type, use `np.bool_` here.\n",
      "Deprecated in NumPy 1.20; for more details and guidance: https://numpy.org/devdocs/release/1.20.0-notes.html#deprecations\n",
      "  \"\"\"\n",
      "/home/dongha.kim/anaconda3/lib/python3.7/site-packages/ipykernel_launcher.py:6: DeprecationWarning: `np.bool` is a deprecated alias for the builtin `bool`. To silence this warning, use `bool` by itself. Doing this will not modify any behavior and is safe. If you specifically wanted the numpy scalar type, use `np.bool_` here.\n",
      "Deprecated in NumPy 1.20; for more details and guidance: https://numpy.org/devdocs/release/1.20.0-notes.html#deprecations\n",
      "  \n",
      "/home/dongha.kim/anaconda3/lib/python3.7/site-packages/ipykernel_launcher.py:7: DeprecationWarning: `np.bool` is a deprecated alias for the builtin `bool`. To silence this warning, use `bool` by itself. Doing this will not modify any behavior and is safe. If you specifically wanted the numpy scalar type, use `np.bool_` here.\n",
      "Deprecated in NumPy 1.20; for more details and guidance: https://numpy.org/devdocs/release/1.20.0-notes.html#deprecations\n",
      "  import sys\n"
     ]
    }
   ],
   "source": [
    "# Create an empty dataframe to push arrays to\n",
    "import numpy.ma as ma\n",
    "inland_bathyDF = pd.DataFrame()\n",
    "inland_bathyDF['comid'] =  pd.DataFrame(np.ma.filled(inland_bathyNC['comid'][:]))\n",
    "inland_bathyDF['x_bathy'] =  pd.DataFrame(np.ma.filled(inland_bathyNC['xid_d'][:]))\n",
    "inland_bathyDF['z_bathy'] =   pd.DataFrame(np.ma.filled(inland_bathyNC['z'][:]))\n",
    "inland_bathyDF['n'] =   pd.DataFrame(np.ma.filled(inland_bathyNC['n'][:]))\n",
    "#inland_bathyDF_subset = inland_bathyDF[inland_bathyDF['comid'] == given_comid[2]]\n",
    "#print(inland_bathyDF_subset.iloc[1])\n",
    "#print(inland_bathyDF_subset['x_bathy'].iloc[2])\n",
    "#print(inland_bathyDF_subset['z_bathy'])\n"
   ]
  },
  {
   "cell_type": "code",
   "execution_count": 33,
   "metadata": {},
   "outputs": [
    {
     "name": "stdout",
     "output_type": "stream",
     "text": [
      "19667933\n"
     ]
    }
   ],
   "source": [
    "sizelist=[]\n",
    "#for i in range(0,3):\n",
    "if 1==1:    \n",
    "    inland_bathyDF_subset = inland_bathyDF[inland_bathyDF['comid'] == given_comid[1]]\n",
    "    size= inland_bathyDF_subset['x_bathy'].size\n",
    "    sizelist.append(size)\n",
    "sizelist\n",
    "maxsize=max(sizelist)\n",
    "maxsize\n",
    "print(given_comid[2])\n"
   ]
  },
  {
   "cell_type": "code",
   "execution_count": 34,
   "metadata": {},
   "outputs": [
    {
     "data": {
      "image/png": "[encoded data removed]",
      "text/plain": [
       "<Figure size 432x288 with 1 Axes>"
      ]
     },
     "metadata": {
      "needs_background": "light"
     },
     "output_type": "display_data"
    },
    {
     "name": "stdout",
     "output_type": "stream",
     "text": [
      "178\n"
     ]
    }
   ],
   "source": [
    "x = inland_bathyDF_subset [['x_bathy']]\n",
    "y = inland_bathyDF_subset [['z_bathy']]\n",
    "fig = plt.figure()\n",
    "ax = fig.add_subplot(2, 1, 1)\n",
    "ax.scatter(x,y)\n",
    "ax.plot(x,y)\n",
    "ax.get_yaxis().get_major_formatter().set_useOffset(False)\n",
    "\n",
    "plt.show()\n",
    "print(x.size)"
   ]
  },
  {
   "cell_type": "code",
   "execution_count": 35,
   "metadata": {},
   "outputs": [
    {
     "data": {
      "image/png": "[encoded data removed]",
      "text/plain": [
       "<Figure size 432x288 with 1 Axes>"
      ]
     },
     "metadata": {
      "needs_background": "light"
     },
     "output_type": "display_data"
    }
   ],
   "source": [
    "x = inland_bathyDF_subset [['x_bathy']]\n",
    "n = inland_bathyDF_subset [['n']]\n",
    "fig = plt.figure()\n",
    "ax = fig.add_subplot(2, 1, 1)\n",
    "ax.scatter(x,n)\n",
    "ax.plot(x,n)\n",
    "ax.get_yaxis().get_major_formatter().set_useOffset(False)\n",
    "\n",
    "plt.show()\n"
   ]
  },
  {
   "cell_type": "code",
   "execution_count": null,
   "metadata": {},
   "outputs": [],
   "source": [
    "# Note: The eHydro cross sections can look pretty awful, the usace ones (source=2) look better\n",
    "\n",
    "# Join the NWM routelink to the inland_bathy data\n",
    "RouteLinkDF = pd.DataFrame()\n",
    "RouteLinkDF['link'] =  pd.DataFrame(np.ma.filled(RouteLinkNC['link'][:]))\n",
    "RouteLinkDF['BtmWdth'] =  pd.DataFrame(np.ma.filled(RouteLinkNC['BtmWdth'][:]))\n",
    "RouteLinkDF['ChSlp'] =  pd.DataFrame(np.ma.filled(RouteLinkNC['ChSlp'][:]))\n",
    "RouteLinkDF['TopWdthCC'] =  pd.DataFrame(np.ma.filled(RouteLinkNC['TopWdthCC'][:]))\n",
    "RouteLinkDF['TopWdth'] =  pd.DataFrame(np.ma.filled(RouteLinkNC['TopWdth'][:]))\n",
    "RouteLinkDF['TopWdth'] =  pd.DataFrame(np.ma.filled(RouteLinkNC['TopWdth'][:]))\n",
    "RouteLinkDF['to'] =  pd.DataFrame(np.ma.filled(RouteLinkNC['to'][:]))\n",
    "#inland_bathyDF_subset = pd.merge(inland_bathyDF_subset, RouteLinkDF,how='left', left_on='comid', right_on='link')\n",
    "#print(inland_bathyDF_subset)\n",
    "\n",
    "RouteLinkDF_subset = RouteLinkDF[RouteLinkDF['link'] == given_comid]\n",
    "RouteLinkDF_subset"
   ]
  },
  {
   "cell_type": "code",
   "execution_count": null,
   "metadata": {},
   "outputs": [],
   "source": [
    "inland_bathyDF_subset = inland_bathyDF[inland_bathyDF['comid'] == given_comid]"
   ]
  },
  {
   "cell_type": "code",
   "execution_count": null,
   "metadata": {},
   "outputs": [],
   "source": [
    "# Plotting a cross section\n",
    "given_xid = np.unique(inland_bathyNC['xid'][:])\n",
    "print(given_xid)\n",
    "given_xid = np.unique(inland_bathyNC['xid'][:])[5]\n",
    "print(given_xid)"
   ]
  },
  {
   "cell_type": "code",
   "execution_count": null,
   "metadata": {},
   "outputs": [],
   "source": [
    "# Create an empty dataframe to push arrays to\n",
    "inland_bathy_cross_sections = pd.DataFrame()\n",
    "inland_bathy_cross_sections['xid'] =  pd.DataFrame(np.ma.filled(inland_bathyNC['xid'][:]))\n",
    "inland_bathy_cross_sections['comid'] =  pd.DataFrame(np.ma.filled(inland_bathyNC['comid'][:]))\n",
    "inland_bathy_cross_sections['xid_d'] =  pd.DataFrame(np.ma.filled(inland_bathyNC['xid_d'][:]))\n",
    "inland_bathy_cross_sections['z'] =  pd.DataFrame(np.ma.filled(inland_bathyNC['z'][:]))\n",
    "inland_bathy_cross_sections_subset = inland_bathy_cross_sections[inland_bathy_cross_sections['xid'] == given_xid]\n",
    "print(inland_bathy_cross_sections_subset)\n"
   ]
  },
  {
   "cell_type": "code",
   "execution_count": null,
   "metadata": {},
   "outputs": [],
   "source": [
    "# I get a weird axis sacling when ploting normally, so this is a weird way to get these to plot\n",
    "x = inland_bathy_cross_sections_subset[['xid_d']]\n",
    "y = inland_bathy_cross_sections_subset[['z']]\n",
    "fig = plt.figure()\n",
    "ax = fig.add_subplot(2, 1, 1)\n",
    "ax.scatter(x,y)\n",
    "ax.plot(x,y)\n",
    "ax.get_yaxis().get_major_formatter().set_useOffset(False)\n",
    "\n",
    "plt.show()"
   ]
  },
  {
   "cell_type": "code",
   "execution_count": null,
   "metadata": {},
   "outputs": [],
   "source": [
    "x"
   ]
  },
  {
   "cell_type": "code",
   "execution_count": null,
   "metadata": {},
   "outputs": [],
   "source": [
    "# Note: The eHydro cross sections can look pretty awful, the usace ones (source=2) look better\n",
    "\n",
    "# Join the NWM routelink to the inland_bathy data\n",
    "RouteLinkDF = pd.DataFrame()\n",
    "RouteLinkDF['link'] =  pd.DataFrame(np.ma.filled(RouteLinkNC['link'][:]))\n",
    "RouteLinkDF['BtmWdth'] =  pd.DataFrame(np.ma.filled(RouteLinkNC['BtmWdth'][:]))\n",
    "RouteLinkDF['ChSlp'] =  pd.DataFrame(np.ma.filled(RouteLinkNC['ChSlp'][:]))\n",
    "RouteLinkDF['TopWdthCC'] =  pd.DataFrame(np.ma.filled(RouteLinkNC['TopWdthCC'][:]))\n",
    "RouteLinkDF['TopWdth'] =  pd.DataFrame(np.ma.filled(RouteLinkNC['TopWdth'][:]))\n",
    "\n",
    "inland_bathy_cross_sections = pd.merge(inland_bathy_cross_sections, RouteLinkDF,how='left', left_on='comid', right_on='link')\n",
    "print(inland_bathy_cross_sections)"
   ]
  },
  {
   "cell_type": "code",
   "execution_count": null,
   "metadata": {},
   "outputs": [],
   "source": [
    "mx_jorder=4\n",
    "for x in range(mx_jorder, -1, -1):\n",
    "    print(x)\n",
    "    "
   ]
  },
  {
   "cell_type": "code",
   "execution_count": null,
   "metadata": {},
   "outputs": [],
   "source": []
  }
 ],
 "metadata": {
  "kernelspec": {
   "display_name": "Python 3 (ipykernel)",
   "language": "python",
   "name": "python3"
  },
  "language_info": {
   "codemirror_mode": {
    "name": "ipython",
    "version": 3
   },
   "file_extension": ".py",
   "mimetype": "text/x-python",
   "name": "python",
   "nbconvert_exporter": "python",
   "pygments_lexer": "ipython3",
   "version": "3.7.11"
  }
 },
 "nbformat": 4,
 "nbformat_minor": 2
}
